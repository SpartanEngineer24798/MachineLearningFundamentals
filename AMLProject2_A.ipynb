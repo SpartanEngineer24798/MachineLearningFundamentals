{
  "nbformat": 4,
  "nbformat_minor": 0,
  "metadata": {
    "colab": {
      "provenance": [],
      "collapsed_sections": []
    },
    "kernelspec": {
      "name": "python3",
      "display_name": "Python 3"
    },
    "language_info": {
      "name": "python"
    }
  },
  "cells": [
    {
      "cell_type": "code",
      "execution_count": null,
      "metadata": {
        "id": "kQlLEMvBLA26"
      },
      "outputs": [],
      "source": [
        "import numpy as np\n",
        "import sklearn\n",
        "\n",
        "from sklearn.datasets import load_breast_cancer\n",
        "from sklearn import preprocessing\n",
        "from sklearn.model_selection import train_test_split\n",
        "from sklearn.model_selection import KFold\n",
        "\n",
        "\n",
        "from sklearn import metrics \n",
        "import matplotlib.pyplot as plt\n",
        "\n",
        "cancer = load_breast_cancer()\n",
        "\n",
        "X = cancer.data\n",
        "X = np.c_[np.ones((len(X),1)),X]\n",
        "scaler = preprocessing.MinMaxScaler().fit(X)\n",
        "X = scaler.transform(X)\n",
        "\n",
        "Y = cancer.target\n",
        "Y[Y == 0] = -1\n",
        "Y = Y.reshape(-1, 1)\n",
        "\n",
        "X_train, X_test, Y_train, Y_test = train_test_split(X,Y)"
      ]
    },
    {
      "cell_type": "code",
      "source": [
        "def svm_primal(X, Y, learning_rate, iterations, C):\n",
        "  w = np.random.randn(len(X[0]))\n",
        "\n",
        "  for i in range(iterations):\n",
        "    for itr, val in enumerate(X):\n",
        "      temp = 1 - Y[itr] * (val.dot(w))\n",
        "      if temp > 0:\n",
        "        gradient = (w - C * Y[itr] * val)\n",
        "      else:\n",
        "        gradient = w\n",
        "      w = w - learning_rate * gradient / len(X[0])\n",
        "  return w"
      ],
      "metadata": {
        "id": "sEw0PsWR9sD5"
      },
      "execution_count": null,
      "outputs": []
    },
    {
      "cell_type": "code",
      "source": [
        "w = svm_primal(X_train, Y_train, 0.001, 5000, 1000)\n",
        "pred = X_train.dot(w)"
      ],
      "metadata": {
        "id": "Aq6SXr_PCmaB"
      },
      "execution_count": null,
      "outputs": []
    },
    {
      "cell_type": "code",
      "source": [
        "def find_closest_to_boundary(predictions):\n",
        "  positive_loc, positive_val = -1, float('inf')\n",
        "  negative_loc, negative_val = -1, float('inf')\n",
        "\n",
        "  itr = 0\n",
        "  for elem in predictions:\n",
        "\n",
        "    temp = abs(1 - elem)\n",
        "    if temp < positive_val:\n",
        "      positive_val = temp\n",
        "      positive_loc = itr\n",
        "    \n",
        "    temp = abs(-1 - elem)\n",
        "    if temp < negative_val:\n",
        "      negative_val = temp\n",
        "      negative_loc = itr\n",
        "    \n",
        "    itr += 1\n",
        "    \n",
        "  return positive_loc, negative_loc"
      ],
      "metadata": {
        "id": "_Wy1K_kw0Zno"
      },
      "execution_count": null,
      "outputs": []
    },
    {
      "cell_type": "markdown",
      "source": [
        "Question 5"
      ],
      "metadata": {
        "id": "Ip8pXcZBKwpb"
      }
    },
    {
      "cell_type": "code",
      "source": [
        "positive_loc , negative_loc = find_closest_to_boundary(pred)\n",
        "\n",
        "print(\"Training Examples Closest to Positive Boundary:\\nPrediction: \", pred[positive_loc], \"At position: \", positive_loc, \"\\nTraining Value: \", X_train[positive_loc])\n",
        "print(\"Training Examples Closest to Negative Boundary:\\nPrediction: \", pred[negative_loc], \"At position: \", negative_loc, \"\\nTraining Value: \", X_train[negative_loc])"
      ],
      "metadata": {
        "colab": {
          "base_uri": "https://localhost:8080/"
        },
        "id": "GX4ezM0Z1W_y",
        "outputId": "b9a2de0e-bbc3-4618-9cb5-84369a7d2d84"
      },
      "execution_count": null,
      "outputs": [
        {
          "output_type": "stream",
          "name": "stdout",
          "text": [
            "Training Examples Closest to Positive Boundary:\n",
            "Prediction:  1.0060445640657913 At position:  81 \n",
            "Training Value:  [0.         0.30711345 0.14710856 0.30080851 0.17085896 0.49173964\n",
            " 0.29482854 0.13556701 0.26172962 0.36313131 0.34604044 0.01712837\n",
            " 0.047096   0.01625595 0.01127759 0.09304144 0.09213807 0.03368687\n",
            " 0.16652775 0.12801824 0.06537181 0.24546425 0.16791045 0.22177399\n",
            " 0.11674204 0.44991085 0.21597734 0.14760383 0.45876289 0.32761679\n",
            " 0.25068871]\n",
            "Training Examples Closest to Negative Boundary:\n",
            "Prediction:  -0.9939267130893661 At position:  203 \n",
            "Training Value:  [0.         0.56883904 0.31112614 0.55013475 0.42184517 0.2666787\n",
            " 0.18679836 0.21722118 0.27967197 0.44747475 0.01010952 0.20934275\n",
            " 0.21698197 0.21010225 0.13901434 0.09229357 0.18819659 0.1020202\n",
            " 0.25781398 0.17473406 0.06188245 0.51191747 0.36540512 0.48702625\n",
            " 0.33248132 0.20425279 0.19317752 0.25615016 0.4185567  0.2515277\n",
            " 0.06801784]\n"
          ]
        }
      ]
    },
    {
      "cell_type": "markdown",
      "source": [
        "Question 6"
      ],
      "metadata": {
        "id": "DIBQ8O2sMltY"
      }
    },
    {
      "cell_type": "code",
      "source": [
        "def print_equation(w):\n",
        "  return_string = \"\"\n",
        "  return_string += \"y = \" + str(w[0])\n",
        "  n = len(w)\n",
        "  for i in range (1, n):\n",
        "    return_string += \" + \" + str(w[i]) + \"x\" + str(i - 1)\n",
        "\n",
        "  return return_string\n",
        "\n",
        "print(print_equation(w))"
      ],
      "metadata": {
        "colab": {
          "base_uri": "https://localhost:8080/"
        },
        "id": "CJSCskWWJ7vZ",
        "outputId": "e5e1a47b-5ee0-4590-9fdc-885994917147"
      },
      "execution_count": null,
      "outputs": [
        {
          "output_type": "stream",
          "name": "stdout",
          "text": [
            "y = -1.3134804926244303e-30 + 3.1430543198410756x0 + 0.37468242829074155x1 + 2.642266858244888x2 + -0.4547098537694149x3 + 3.014572792322645x4 + -0.7755607841243728x5 + -4.045326958678338x6 + -5.197673930966309x7 + 1.797758171814406x8 + 3.5990368788314258x9 + -2.9461940469820957x10 + 0.6146643537138242x11 + -2.3706797062540015x12 + -2.3037751552194488x13 + 0.6160344932381575x14 + 1.8830425840128369x15 + 1.6185226446635899x16 + 0.8910827373410896x17 + 0.32045765149436756x18 + 0.355278792449986x19 + -0.4197031915340518x20 + -1.5393359596395721x21 + -0.2108584479699389x22 + -2.177783716842083x23 + -0.25700230645024336x24 + -0.2038366696620952x25 + -0.10738551937700445x26 + -2.136537785534986x27 + -0.8488831558765757x28 + -1.1580622614983878x29\n"
          ]
        }
      ]
    },
    {
      "cell_type": "markdown",
      "source": [
        "Analysis of Training Predictions vs. Actual, for reference"
      ],
      "metadata": {
        "id": "iHMDfSieLgrV"
      }
    },
    {
      "cell_type": "code",
      "source": [
        "pred_recalculate = [0 for _ in range(len(pred))]\n",
        "itr = 0\n",
        "for elem in pred:\n",
        "  if elem < 0:\n",
        "    pred_recalculate[itr] = -1\n",
        "  else:\n",
        "    pred_recalculate[itr] = 1\n",
        "  \n",
        "  itr += 1\n",
        "\n",
        "print(\"Visualization of Training Success using Confusion Matrix\")\n",
        "\n",
        "confusion_matrix = metrics.confusion_matrix(Y_train, pred_recalculate)\n",
        "cm_display = metrics.ConfusionMatrixDisplay(confusion_matrix = confusion_matrix, display_labels = [False, True])\n",
        "cm_display.plot()\n",
        "plt.show()\n",
        "\n",
        "accuracy = metrics.accuracy_score(Y_train, pred_recalculate)\n",
        "precision = metrics.precision_score(Y_train, pred_recalculate)\n",
        "recall = metrics.recall_score(Y_train, pred_recalculate)\n",
        "\n",
        "print(\"Accuracy: \", accuracy, \" Precision: \", precision, \"  Recall: \", recall)"
      ],
      "metadata": {
        "id": "XsZ0mAUiNBRb",
        "colab": {
          "base_uri": "https://localhost:8080/",
          "height": 314
        },
        "outputId": "e0c56959-9be1-4cf6-ac9c-b61ca00391ae"
      },
      "execution_count": null,
      "outputs": [
        {
          "output_type": "stream",
          "name": "stdout",
          "text": [
            "Visualization of Training Success using Confusion Matrix\n"
          ]
        },
        {
          "output_type": "display_data",
          "data": {
            "text/plain": [
              "<Figure size 432x288 with 2 Axes>"
            ],
            "image/png": "[encoded data removed]"
          },
          "metadata": {
            "needs_background": "light"
          }
        },
        {
          "output_type": "stream",
          "name": "stdout",
          "text": [
            "Accuracy:  0.9507042253521126  Precision:  0.9345454545454546   Recall:  0.9884615384615385\n"
          ]
        }
      ]
    },
    {
      "cell_type": "markdown",
      "source": [
        "Question 7:\n",
        "\n",
        "Random Weights already implemented (initializing w with random)\n",
        "KFold variation below:"
      ],
      "metadata": {
        "id": "--6AOZVCJI2P"
      }
    },
    {
      "cell_type": "code",
      "source": [
        "def KFoldCrossValidate(k, X, Y, learning_rate, iterations, C):\n",
        "  kf = KFold(n_splits = k, shuffle = True)\n",
        "  train_score = 0\n",
        "  test_score = 0\n",
        "\n",
        "  w = np.zeros(len(X[0]))\n",
        "  accuracy = 0\n",
        "\n",
        "  for train_index, test_index in kf.split(X):\n",
        "    X_train, X_test = X[train_index], X[test_index]\n",
        "    Y_train, Y_test = Y[train_index], Y[test_index]\n",
        "\n",
        "    w_temp = svm_primal(X_train, Y_train, learning_rate, iterations, C)\n",
        "    w = w + w_temp / k\n",
        "\n",
        "    pred = X_train.dot(w)\n",
        "    pred[pred < 0] = -1\n",
        "    pred[pred > 0] = 1\n",
        "    accuracy_temp = metrics.accuracy_score(Y_train, pred)\n",
        "\n",
        "    accuracy += accuracy_temp / k\n",
        "  \n",
        "  return w, accuracy"
      ],
      "metadata": {
        "id": "ezNVkMwY5cKq"
      },
      "execution_count": null,
      "outputs": []
    },
    {
      "cell_type": "code",
      "source": [
        "Kfold_w, accuracy = KFoldCrossValidate(5, X, Y, 0.001, 5000, 1000)\n",
        "\n",
        "print(\"KFold - Accuracy: \", accuracy)"
      ],
      "metadata": {
        "colab": {
          "base_uri": "https://localhost:8080/"
        },
        "id": "DqRXFuQA6ObY",
        "outputId": "d0c7efe7-9c01-4488-c72d-2bf1523d4f40"
      },
      "execution_count": null,
      "outputs": [
        {
          "output_type": "stream",
          "name": "stdout",
          "text": [
            "KFold - Accuracy:  0.9340938885675728\n"
          ]
        }
      ]
    },
    {
      "cell_type": "markdown",
      "source": [
        "Doing the same thing with generated Make Blobs data:"
      ],
      "metadata": {
        "id": "vLs5cTWIimRz"
      }
    },
    {
      "cell_type": "code",
      "source": [
        "X, Y = sklearn.datasets.make_blobs(n_samples=1000, centers=2, random_state=0)\n",
        "\n",
        "X = np.c_[np.ones((len(X),1)),X]\n",
        "scaler = preprocessing.MinMaxScaler().fit(X)\n",
        "X = scaler.transform(X)\n",
        "Y[Y == 0] = -1\n",
        "Y = Y.reshape(-1, 1)"
      ],
      "metadata": {
        "id": "4e8h6mm-iaIO"
      },
      "execution_count": null,
      "outputs": []
    },
    {
      "cell_type": "code",
      "source": [
        "X_train, X_test, Y_train, Y_test = train_test_split(X,Y)\n",
        "w = svm_primal(X_train, Y_train, 0.001, 5000, 1000)\n",
        "pred = X_train.dot(w)\n",
        "\n",
        "pred_recalculate = [0 for _ in range(len(pred))]\n",
        "itr = 0\n",
        "for elem in pred:\n",
        "  if elem < 0:\n",
        "    pred_recalculate[itr] = -1\n",
        "  else:\n",
        "    pred_recalculate[itr] = 1\n",
        "  \n",
        "  itr += 1\n",
        "\n",
        "print(\"Visualization of Training Success using Confusion Matrix\")\n",
        "\n",
        "confusion_matrix = metrics.confusion_matrix(Y_train, pred_recalculate)\n",
        "cm_display = metrics.ConfusionMatrixDisplay(confusion_matrix = confusion_matrix, display_labels = [False, True])\n",
        "cm_display.plot()\n",
        "plt.show()\n",
        "\n",
        "accuracy = metrics.accuracy_score(Y_train, pred_recalculate)\n",
        "precision = metrics.precision_score(Y_train, pred_recalculate)\n",
        "recall = metrics.recall_score(Y_train, pred_recalculate)\n",
        "\n",
        "print(\"Accuracy: \", accuracy, \" Precision: \", precision, \"  Recall: \", recall)\n",
        "\n",
        "Kfold_w, accuracy = KFoldCrossValidate(5, X, Y, 0.001, 5000, 1000)\n",
        "print(\"KFold - Accuracy: \", accuracy)"
      ],
      "metadata": {
        "colab": {
          "base_uri": "https://localhost:8080/",
          "height": 318
        },
        "id": "tlav9MqMjeWF",
        "outputId": "ede3003c-07b0-46de-a8a3-c138f9638583"
      },
      "execution_count": null,
      "outputs": [
        {
          "output_type": "stream",
          "name": "stdout",
          "text": [
            "Visualization of Training Success using Confusion Matrix\n"
          ]
        },
        {
          "output_type": "display_data",
          "data": {
            "text/plain": [
              "<Figure size 432x288 with 2 Axes>"
            ],
            "image/png": "[encoded data removed]"
          },
          "metadata": {
            "needs_background": "light"
          }
        },
        {
          "output_type": "stream",
          "name": "stdout",
          "text": [
            "Accuracy:  0.932  Precision:  0.9354838709677419   Recall:  0.928\n"
          ]
        }
      ]
    }
  ]
}