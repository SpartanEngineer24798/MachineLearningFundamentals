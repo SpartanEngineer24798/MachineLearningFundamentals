{
  "nbformat": 4,
  "nbformat_minor": 0,
  "metadata": {
    "colab": {
      "provenance": [],
      "collapsed_sections": []
    },
    "kernelspec": {
      "name": "python3",
      "display_name": "Python 3"
    },
    "language_info": {
      "name": "python"
    }
  },
  "cells": [
    {
      "cell_type": "code",
      "execution_count": null,
      "metadata": {
        "id": "x9yVqfryFWxF"
      },
      "outputs": [],
      "source": [
        "import numpy as np\n",
        "from sklearn import datasets\n",
        "from sklearn.model_selection import train_test_split"
      ]
    },
    {
      "cell_type": "code",
      "source": [
        "class WeakClassifier:\n",
        "    def __init__(self):\n",
        "        self.polarity = 1\n",
        "        self.threshold = None\n",
        "        self.feature_idx = None\n",
        "        self.alpha = None\n",
        "        \n",
        "    def predict(self,X):\n",
        "        n_samples = X.shape[0]\n",
        "        X_c = X[:,self.feature_idx]\n",
        "        predictions = np.ones(n_samples)\n",
        "        \n",
        "        if self.polarity ==1:\n",
        "            predictions[X_c < self.threshold] = -1\n",
        "        else:\n",
        "            predictions[X_c > self.threshold] = -1\n",
        "            \n",
        "        return predictions"
      ],
      "metadata": {
        "id": "GmL4PY5zjXtV"
      },
      "execution_count": null,
      "outputs": []
    },
    {
      "cell_type": "code",
      "source": [
        "class AdaBoost():\n",
        "    def __init__(self,num_classifiers=5):\n",
        "        self.num_classifiers = num_classifiers\n",
        "        \n",
        "    def model(self,X,target):\n",
        "        n_samples, n_features = X.shape\n",
        "        w = np.full(n_samples, (1/n_samples))\n",
        "        \n",
        "        self.classifiers=[]\n",
        "        for _ in range(self.num_classifiers):\n",
        "            classifier = WeakClassifier()\n",
        "            min_error = float('inf')\n",
        "            for feature_index in range(n_features):\n",
        "                X_feature = X[:,feature_index]\n",
        "                thresholds = np.unique(X_feature)\n",
        "                for threshold in thresholds:\n",
        "                    sign = 1\n",
        "                    predictions = np.ones(n_samples)\n",
        "                    predictions[X_feature<threshold] = -1\n",
        "                    \n",
        "                    misclassified = w[target!=predictions]\n",
        "                    error = sum(misclassified)\n",
        "                    \n",
        "                    if error > 0.5:\n",
        "                        sign = -1\n",
        "                        error = 1-error\n",
        "                    \n",
        "                    if error < min_error:\n",
        "                        min_error = error\n",
        "                        classifier.threshold = threshold\n",
        "                        classifier.feature_idx = feature_index\n",
        "                        classifier.polarity = sign\n",
        "\n",
        "            classifier.alpha=0.5*np.log((1.0-min_error+1e-10)/(min_error+1e-10))\n",
        "            predictions = classifier.predict(X)\n",
        "            w *= np.exp(-classifier.alpha*target*predictions)\n",
        "            w/=np.sum(w)\n",
        "            self.classifiers.append(classifier)\n",
        "            \n",
        "    def predict(self, X):\n",
        "        classifier_preds = [clf.alpha*clf.predict(X) for clf in self.classifiers]\n",
        "        predictions = np.sum(classifier_preds,axis=0)\n",
        "        predictions = np.sign(predictions)\n",
        "        return predictions"
      ],
      "metadata": {
        "id": "QHn_InmdkVXw"
      },
      "execution_count": null,
      "outputs": []
    },
    {
      "cell_type": "code",
      "source": [
        "from sklearn.model_selection import train_test_split\n",
        "from sklearn import datasets"
      ],
      "metadata": {
        "id": "SVNnbDsRoOTw"
      },
      "execution_count": null,
      "outputs": []
    },
    {
      "cell_type": "code",
      "source": [
        "from sklearn import metrics\n",
        "import matplotlib.pyplot as plt\n",
        "\n",
        "#modified the code for my liking\n",
        "def display_confusion(actual, predictions):\n",
        "  confusion_matrix = metrics.confusion_matrix(actual, predictions)\n",
        "  cm_display = metrics.ConfusionMatrixDisplay(confusion_matrix = confusion_matrix, display_labels = [False, True])\n",
        "  cm_display.plot()\n",
        "  plt.show()\n",
        "\n",
        "  accuracy = metrics.accuracy_score(actual, predictions)\n",
        "  print(\"Accuracy: \", accuracy)"
      ],
      "metadata": {
        "id": "KI7FMl6WoQRx"
      },
      "execution_count": null,
      "outputs": []
    },
    {
      "cell_type": "code",
      "source": [
        "from sklearn.datasets import load_breast_cancer\n",
        "data = datasets.load_breast_cancer()\n",
        "X = data.data\n",
        "Y = data.target\n",
        "Y[Y == 0] = -1\n",
        "X_train, X_test, Y_train, Y_test = train_test_split(X,Y)\n",
        "\n",
        "ada_model = AdaBoost()\n",
        "ada_model.model(X_train, Y_train)\n",
        "\n",
        "Y_predictions = ada_model.predict(X_test)\n",
        "display_confusion(Y_test, Y_predictions)"
      ],
      "metadata": {
        "colab": {
          "base_uri": "https://localhost:8080/",
          "height": 296
        },
        "id": "lqe5B_WvpkrD",
        "outputId": "e13bb144-584a-49b0-c3cb-b7add31f02af"
      },
      "execution_count": null,
      "outputs": [
        {
          "output_type": "display_data",
          "data": {
            "text/plain": [
              "<Figure size 432x288 with 2 Axes>"
            ],
            "image/png": "[encoded data removed]"
          },
          "metadata": {
            "needs_background": "light"
          }
        },
        {
          "output_type": "stream",
          "name": "stdout",
          "text": [
            "Accuracy:  0.9370629370629371\n"
          ]
        }
      ]
    },
    {
      "cell_type": "code",
      "source": [
        "'''\n",
        "Confusion Matrix:\n",
        "[[45 3]\n",
        "[ 0 66]]\n",
        "---------------------------------------------------------\n",
        "Accuracy :\n",
        "97.36842105263158\n",
        "'''"
      ],
      "metadata": {
        "id": "eC1o29wFqMaZ",
        "colab": {
          "base_uri": "https://localhost:8080/",
          "height": 35
        },
        "outputId": "bc9f0636-2854-4171-daaa-0e350d52b16d"
      },
      "execution_count": null,
      "outputs": [
        {
          "output_type": "execute_result",
          "data": {
            "text/plain": [
              "'\\nConfusion Matrix:\\n[[45 3]\\n[ 0 66]]\\n---------------------------------------------------------\\nAccuracy :\\n97.36842105263158\\n'"
            ],
            "application/vnd.google.colaboratory.intrinsic+json": {
              "type": "string"
            }
          },
          "metadata": {},
          "execution_count": 7
        }
      ]
    },
    {
      "cell_type": "markdown",
      "source": [
        "Same thing, but with Spambase dataset.\n",
        "Please download spambase_csv.csv from: https://datahub.io/machine-learning/spambase and save it into the same directory as this notebook."
      ],
      "metadata": {
        "id": "Dl_BtC8XMQq5"
      }
    },
    {
      "cell_type": "code",
      "source": [
        "import pandas as pd\n",
        "\n",
        "dp = pd.read_csv(\"spambase_csv.csv\")\n",
        "\n",
        "X = np.array(dp.iloc[:,:-1])\n",
        "Y = np.array(dp.iloc[:,-1])\n",
        "\n",
        "Y[Y == 0] = -1\n",
        "X_train, X_test, Y_train, Y_test = train_test_split(X,Y)\n",
        "\n",
        "ada_model = AdaBoost()\n",
        "ada_model.model(X_train, Y_train)\n",
        "\n",
        "Y_predictions = ada_model.predict(X_test)\n",
        "display_confusion(Y_test, Y_predictions)"
      ],
      "metadata": {
        "colab": {
          "base_uri": "https://localhost:8080/",
          "height": 296
        },
        "id": "gRJfEeTCGI1A",
        "outputId": "7f909167-ffc7-453a-9959-66e23f02772c"
      },
      "execution_count": null,
      "outputs": [
        {
          "output_type": "display_data",
          "data": {
            "text/plain": [
              "<Figure size 432x288 with 2 Axes>"
            ],
            "image/png": "[encoded data removed]"
          },
          "metadata": {
            "needs_background": "light"
          }
        },
        {
          "output_type": "stream",
          "name": "stdout",
          "text": [
            "Accuracy:  0.893136403127715\n"
          ]
        }
      ]
    }
  ]
}